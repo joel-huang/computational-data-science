{
 "cells": [
  {
   "cell_type": "markdown",
   "metadata": {},
   "source": [
    "# Naive Bayes Exercise\n",
    "\n",
    "## Concat and frequency count\n",
    "Load in Twitter dataset (both files) and count the frequency of each \n",
    "class"
   ]
  },
  {
   "cell_type": "code",
   "execution_count": 3,
   "metadata": {},
   "outputs": [
    {
     "data": {
      "text/plain": [
       "4    800182\n",
       "0    800177\n",
       "2       139\n",
       "Name: label, dtype: int64"
      ]
     },
     "execution_count": 3,
     "metadata": {},
     "output_type": "execute_result"
    }
   ],
   "source": [
    "from sklearn.feature_extraction.text import CountVectorizer\n",
    "from sklearn.naive_bayes import MultinomialNB\n",
    "from sklearn.pipeline import Pipeline\n",
    "from sklearn.model_selection import train_test_split\n",
    "from sklearn.preprocessing import FunctionTransformer\n",
    "from sklearn import metrics\n",
    "from sklearn.metrics import accuracy_score\n",
    "import pandas as pd\n",
    "import numpy as np\n",
    "\n",
    "colnames = ['label', 'id', 'date', 'query', 'user', 'text']\n",
    "df1 = pd.read_csv('data/training.1600000.processed.noemoticon.csv',\n",
    "                      header=None, names=colnames, encoding='windows-1252')\n",
    "df2 = pd.read_csv('data/testdata.manual.2009.06.14.csv',\n",
    "                      header=None, names=colnames, encoding='windows-1252')\n",
    "\n",
    "df = pd.concat([df1, df2]) # concat the two sets\n",
    "df['label'].value_counts() # should have only two classes"
   ]
  },
  {
   "cell_type": "markdown",
   "metadata": {},
   "source": [
    "## Simple pipeline\n",
    "\n",
    "Implement a simple pipeline with Naïve Bayes classifier with words \n",
    "(unigrams) as features\n",
    "- Using “training.1600000.processed.noemoticon.csv”, \n",
    "  evaluate your \n",
    "  model with 80% training and 20% test\n",
    "- hint: look at the `train_test_split()` function"
   ]
  },
  {
   "cell_type": "code",
   "execution_count": 4,
   "metadata": {},
   "outputs": [
    {
     "name": "stdout",
     "output_type": "stream",
     "text": [
      "((1280000, 6), (320000, 6))\n",
      "             precision    recall  f1-score   support\n",
      "\n",
      "          0       0.76      0.82      0.79    159819\n",
      "          4       0.80      0.74      0.77    160181\n",
      "\n",
      "avg / total       0.78      0.78      0.78    320000\n",
      "\n",
      "0.780265625\n"
     ]
    }
   ],
   "source": [
    "split = train_test_split(df1, test_size=0.2, train_size=0.8)\n",
    "train, test = split[0], split[1]\n",
    "print(train.shape, test.shape)\n",
    "\n",
    "bow_vector = CountVectorizer()\n",
    "mnb_classifier = MultinomialNB()\n",
    "pipeline = Pipeline([('bow', bow_vector),('mnb', mnb_classifier)])\n",
    "pipeline.fit(train['text'], train['label'])\n",
    "prediction = pipeline.predict(test['text'])\n",
    "\n",
    "print(metrics.classification_report(test['label'], prediction))\n",
    "print(accuracy_score(test['label'], prediction))"
   ]
  },
  {
   "cell_type": "markdown",
   "metadata": {},
   "source": [
    "## Enhancement and experiment with bigrams and trigrams\n",
    "Enhance the Naïve Bayes model by removing stop words, and experimenting with bigrams and trigrams\n",
    "- hint: look at the various parameters for `CountVectorizer()`\n",
    "\n",
    "```\n",
    "CountVectorizer(input=’content’, encoding=’utf-8’, decode_error=’strict’, strip_accents=None, lowercase=True, preprocessor=None, tokenizer=None, stop_words=None, token_pattern=’(?u)\\b\\w\\w+\\b’, ngram_range=(1, 1), analyzer=’word’, max_df=1.0, min_df=1, max_features=None, vocabulary=None, binary=False, dtype=<class ‘numpy.int64’>)\n",
    "```"
   ]
  },
  {
   "cell_type": "code",
   "execution_count": 7,
   "metadata": {},
   "outputs": [
    {
     "name": "stdout",
     "output_type": "stream",
     "text": [
      "             precision    recall  f1-score   support\n",
      "\n",
      "          0       0.69      0.79      0.73    159819\n",
      "          4       0.75      0.64      0.69    160181\n",
      "\n",
      "avg / total       0.72      0.71      0.71    320000\n",
      "\n",
      "0.714575\n"
     ]
    }
   ],
   "source": [
    "stop_bigram = CountVectorizer(stop_words='english', ngram_range=(2,2))\n",
    "pipeline = Pipeline([('stop bigram', stop_bigram),('mnb', mnb_classifier)])\n",
    "pipeline.fit(train['text'], train['label'])\n",
    "prediction = pipeline.predict(test['text'])\n",
    "\n",
    "print(metrics.classification_report(test['label'], prediction))\n",
    "print(accuracy_score(test['label'], prediction))"
   ]
  },
  {
   "cell_type": "code",
   "execution_count": null,
   "metadata": {},
   "outputs": [],
   "source": []
  }
 ],
 "metadata": {
  "kernelspec": {
   "display_name": "Python 2",
   "language": "python",
   "name": "python2"
  },
  "language_info": {
   "codemirror_mode": {
    "name": "ipython",
    "version": 2
   },
   "file_extension": ".py",
   "mimetype": "text/x-python",
   "name": "python",
   "nbconvert_exporter": "python",
   "pygments_lexer": "ipython2",
   "version": "2.7.15"
  }
 },
 "nbformat": 4,
 "nbformat_minor": 2
}
