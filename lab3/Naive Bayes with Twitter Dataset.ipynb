{
 "cells": [
  {
   "cell_type": "code",
   "execution_count": 1,
   "metadata": {},
   "outputs": [],
   "source": [
    "from sklearn.feature_extraction.text import CountVectorizer\n",
    "from sklearn.naive_bayes import MultinomialNB\n",
    "from sklearn.pipeline import Pipeline\n",
    "from sklearn.model_selection import train_test_split\n",
    "from sklearn.preprocessing import FunctionTransformer\n",
    "from sklearn import metrics\n",
    "from sklearn.metrics import accuracy_score\n",
    "import pandas as pd\n",
    "import numpy as np"
   ]
  },
  {
   "cell_type": "markdown",
   "metadata": {},
   "source": [
    "## Import data and label columns"
   ]
  },
  {
   "cell_type": "code",
   "execution_count": 2,
   "metadata": {},
   "outputs": [],
   "source": [
    "colnames = ['label', 'id', 'date', 'query', 'user', 'text']\n",
    "df_train = pd.read_csv('data/training.1600000.processed.noemoticon.csv',\n",
    "                      header=None, names=colnames, encoding='windows-1252')\n",
    "df_test = pd.read_csv('data/testdata.manual.2009.06.14.csv',\n",
    "                      header=None, names=colnames, encoding='windows-1252')"
   ]
  },
  {
   "cell_type": "markdown",
   "metadata": {},
   "source": [
    "## Check data is loaded properly"
   ]
  },
  {
   "cell_type": "code",
   "execution_count": 3,
   "metadata": {},
   "outputs": [
    {
     "name": "stdout",
     "output_type": "stream",
     "text": [
      "(1600000, 6)\n"
     ]
    },
    {
     "data": {
      "text/plain": [
       "4    800000\n",
       "0    800000\n",
       "Name: label, dtype: int64"
      ]
     },
     "execution_count": 3,
     "metadata": {},
     "output_type": "execute_result"
    }
   ],
   "source": [
    "print(df_train.shape)\n",
    "df_train.head()\n",
    "df_train['label'].value_counts() # should have only two classes"
   ]
  },
  {
   "cell_type": "markdown",
   "metadata": {},
   "source": [
    "## Bag of Words using `CountVectorizer()`\n",
    "\n",
    "`CountVectorizer()`\n",
    "Convert a collection of text documents to a matrix of token counts. This implementation produces a sparse representation of the counts using scipy.sparse.csr_matrix."
   ]
  },
  {
   "cell_type": "code",
   "execution_count": 4,
   "metadata": {},
   "outputs": [
    {
     "name": "stdout",
     "output_type": "stream",
     "text": [
      "(1600000, 685256)\n",
      "[0 4 4 4 0 4 0 4 4 4 4 0 4 4 0 0 0 4 0 0 4 4 0 0 0 4 4 4 4 4 4 4 4 0 4 0 0\n",
      " 0 4 0 4 0 0 0 0 0 4 4 4 0 0 4 4 4 0 4 4 4 4 0 4 0 4 4 0 0 4 4 0 4 4 4 0 4\n",
      " 4 0 4 0 4 0 4 0 4 4 4 0 4 0 0 0 0 0 0 0 0 0 0 0 0 0 4 4 4 0 0 0 4 4 4 4 4\n",
      " 4 4 0 4 4 4 4 4 4 4 4 4 0 4 4 4 4 4 4 4 4 4 4 4 4 4 4 0 0 0 0 0 0 0 0 0 0\n",
      " 0 0 0 0 0 4 0 4 4 0 4 4 4 0 0 0 0 0 4 0 0 0 0 4 4 4 4 0 0 0 4 4 0 0 0 4 0\n",
      " 0 4 4 4 0 4 4 4 4 0 4 4 4 4 4 4 4 4 4 4 4 4 4 0 4 0 0 0 0 0 4 4 0 0 0 0 0\n",
      " 0 0 0 0 4 0 0 0 0 4 4 4 0 0 4 4 4 4 4 0 4 4 4 4 4 4 4 4 0 0 0 4 4 0 0 4 0\n",
      " 4 4 4 4 0 4 0 4 0 4 4 4 0 0 4 4 4 0 4 4 4 0 0 0 0 4 4 0 4 4 4 4 4 0 0 4 0\n",
      " 0 0 0 0 4 0 0 4 0 0 4 4 4 4 4 4 0 4 0 4 4 4 4 4 4 4 4 4 4 4 4 4 4 4 0 4 0\n",
      " 0 0 4 0 4 0 4 0 0 0 0 4 4 4 4 4 4 0 4 4 4 4 4 4 4 4 4 4 4 4 4 4 4 4 4 4 4\n",
      " 4 0 4 0 0 4 0 0 4 4 0 0 0 0 0 0 4 0 0 4 0 0 0 0 0 0 4 0 0 4 4 4 0 0 0 0 0\n",
      " 0 0 0 0 4 0 4 4 4 4 0 0 4 0 0 0 4 4 4 0 4 4 0 4 4 4 4 4 4 4 4 4 4 0 4 4 4\n",
      " 4 4 4 4 4 4 0 4 4 0 4 0 0 4 0 4 0 4 4 4 0 0 4 4 0 4 0 4 0 0 0 4 4 4 4 0 0\n",
      " 0 0 4 0 0 4 4 4 4 4 4 0 4 0 4 0 0]\n"
     ]
    }
   ],
   "source": [
    "bow_vector = CountVectorizer()\n",
    "train_bow = bow_vector.fit_transform(df_train.text)\n",
    "print(train_bow.shape)\n",
    "\n",
    "test_bow = bow_vector.transform(df_test.text)\n",
    "mnb_classifier = MultinomialNB().fit(train_bow, df_train['label'])\n",
    "prediction = mnb_classifier.predict(test_bow)\n",
    "\n",
    "print(prediction)"
   ]
  },
  {
   "cell_type": "markdown",
   "metadata": {},
   "source": [
    "## Evaluation"
   ]
  },
  {
   "cell_type": "code",
   "execution_count": 5,
   "metadata": {},
   "outputs": [
    {
     "name": "stdout",
     "output_type": "stream",
     "text": [
      "             precision    recall  f1-score   support\n",
      "\n",
      "          0       0.68      0.82      0.74       177\n",
      "          2       0.00      0.00      0.00       139\n",
      "          4       0.51      0.79      0.62       182\n",
      "\n",
      "avg / total       0.43      0.58      0.49       498\n",
      "\n",
      "0.5823293172690763\n"
     ]
    },
    {
     "name": "stderr",
     "output_type": "stream",
     "text": [
      "/home/joel/anaconda2/lib/python2.7/site-packages/sklearn/metrics/classification.py:1135: UndefinedMetricWarning: Precision and F-score are ill-defined and being set to 0.0 in labels with no predicted samples.\n",
      "  'precision', 'predicted', average, warn_for)\n"
     ]
    }
   ],
   "source": [
    "print(metrics.classification_report(df_test['label'], prediction))\n",
    "print(accuracy_score(df_test['label'], prediction))"
   ]
  },
  {
   "cell_type": "code",
   "execution_count": null,
   "metadata": {},
   "outputs": [],
   "source": []
  }
 ],
 "metadata": {
  "kernelspec": {
   "display_name": "Python 2",
   "language": "python",
   "name": "python2"
  },
  "language_info": {
   "codemirror_mode": {
    "name": "ipython",
    "version": 2
   },
   "file_extension": ".py",
   "mimetype": "text/x-python",
   "name": "python",
   "nbconvert_exporter": "python",
   "pygments_lexer": "ipython2",
   "version": "2.7.15"
  }
 },
 "nbformat": 4,
 "nbformat_minor": 2
}
