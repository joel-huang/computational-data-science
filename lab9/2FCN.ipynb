{
 "cells": [
  {
   "cell_type": "code",
   "execution_count": 1,
   "metadata": {},
   "outputs": [
    {
     "name": "stderr",
     "output_type": "stream",
     "text": [
      "Using TensorFlow backend.\n"
     ]
    }
   ],
   "source": [
    "from __future__ import print_function \n",
    "import keras\n",
    "from keras.datasets import mnist\n",
    "from keras.models import Sequential\n",
    "from keras.layers import Dense, Dropout\n",
    "from keras.optimizers import RMSprop\n",
    "import matplotlib.pyplot as plt"
   ]
  },
  {
   "cell_type": "code",
   "execution_count": 2,
   "metadata": {},
   "outputs": [
    {
     "data": {
      "image/png": "[encoded data removed]",
      "text/plain": [
       "<Figure size 432x288 with 1 Axes>"
      ]
     },
     "metadata": {
      "needs_background": "light"
     },
     "output_type": "display_data"
    },
    {
     "name": "stdout",
     "output_type": "stream",
     "text": [
      "(60000, 28, 28)\n",
      "(60000, 784)\n",
      "[[0. 0. 0. ... 0. 0. 0.]\n",
      " [0. 0. 0. ... 0. 0. 0.]\n",
      " [0. 0. 0. ... 0. 0. 0.]\n",
      " ...\n",
      " [0. 0. 0. ... 0. 0. 0.]\n",
      " [0. 0. 0. ... 0. 0. 0.]\n",
      " [0. 0. 0. ... 0. 0. 0.]]\n"
     ]
    }
   ],
   "source": [
    "(X_train, Y_train), (X_test, Y_test) = mnist.load_data()\n",
    "plt.imshow(X_train[20], cmap='gray')\n",
    "plt.show()\n",
    "\n",
    "print(X_train.shape)\n",
    "X_train = X_train.reshape(60000, X_train.shape[1]**2).astype('float32')/255\n",
    "X_test = X_test.reshape(10000, X_test.shape[1]**2).astype('float32')/255\n",
    "print(X_train.shape)\n",
    "print(X_train)\n",
    "\n",
    "Y_train = keras.utils.to_categorical(Y_train)\n",
    "Y_test = keras.utils.to_categorical(Y_test)"
   ]
  },
  {
   "cell_type": "code",
   "execution_count": 3,
   "metadata": {},
   "outputs": [
    {
     "name": "stdout",
     "output_type": "stream",
     "text": [
      "_________________________________________________________________\n",
      "Layer (type)                 Output Shape              Param #   \n",
      "=================================================================\n",
      "dense_1 (Dense)              (None, 512)               401920    \n",
      "_________________________________________________________________\n",
      "dropout_1 (Dropout)          (None, 512)               0         \n",
      "_________________________________________________________________\n",
      "dense_2 (Dense)              (None, 512)               262656    \n",
      "_________________________________________________________________\n",
      "dropout_2 (Dropout)          (None, 512)               0         \n",
      "_________________________________________________________________\n",
      "dense_3 (Dense)              (None, 10)                5130      \n",
      "=================================================================\n",
      "Total params: 669,706\n",
      "Trainable params: 669,706\n",
      "Non-trainable params: 0\n",
      "_________________________________________________________________\n"
     ]
    }
   ],
   "source": [
    "model = Sequential()\n",
    "model.add(Dense(512, activation='relu', input_shape=(784,)))\n",
    "model.add(Dropout(0.5))\n",
    "model.add(Dense(512, activation='relu', input_shape=(784,)))\n",
    "model.add(Dropout(0.5))\n",
    "model.add(Dense(10, activation='softmax'))\n",
    "model.summary()"
   ]
  },
  {
   "cell_type": "code",
   "execution_count": 4,
   "metadata": {},
   "outputs": [
    {
     "name": "stdout",
     "output_type": "stream",
     "text": [
      "Train on 54000 samples, validate on 6000 samples\n",
      "Epoch 1/40\n",
      "54000/54000 [==============================] - 6s 118us/step - loss: 0.3753 - acc: 0.8827 - val_loss: 0.1171 - val_acc: 0.9670\n",
      "Epoch 2/40\n",
      "54000/54000 [==============================] - 5s 99us/step - loss: 0.1724 - acc: 0.9477 - val_loss: 0.0943 - val_acc: 0.9710\n",
      "Epoch 3/40\n",
      "54000/54000 [==============================] - 16s 295us/step - loss: 0.1345 - acc: 0.9597 - val_loss: 0.0727 - val_acc: 0.9772\n",
      "Epoch 4/40\n",
      "54000/54000 [==============================] - 87s 2ms/step - loss: 0.1121 - acc: 0.9652 - val_loss: 0.0659 - val_acc: 0.9797\n",
      "Epoch 5/40\n",
      "54000/54000 [==============================] - 16s 300us/step - loss: 0.0987 - acc: 0.9702 - val_loss: 0.0672 - val_acc: 0.9802\n",
      "Epoch 6/40\n",
      "54000/54000 [==============================] - 13s 248us/step - loss: 0.0874 - acc: 0.9731 - val_loss: 0.0616 - val_acc: 0.9812\n",
      "Epoch 7/40\n",
      "54000/54000 [==============================] - 14s 263us/step - loss: 0.0823 - acc: 0.9741 - val_loss: 0.0583 - val_acc: 0.9822\n",
      "Epoch 8/40\n",
      "54000/54000 [==============================] - 10s 183us/step - loss: 0.0754 - acc: 0.9758 - val_loss: 0.0572 - val_acc: 0.9828\n",
      "Epoch 9/40\n",
      "54000/54000 [==============================] - 5s 93us/step - loss: 0.0680 - acc: 0.9784 - val_loss: 0.0609 - val_acc: 0.9827\n",
      "Epoch 10/40\n",
      "54000/54000 [==============================] - 5s 93us/step - loss: 0.0694 - acc: 0.9782 - val_loss: 0.0641 - val_acc: 0.9810\n",
      "Epoch 11/40\n",
      "54000/54000 [==============================] - 5s 93us/step - loss: 0.0627 - acc: 0.9794 - val_loss: 0.0609 - val_acc: 0.9832\n",
      "Epoch 12/40\n",
      "54000/54000 [==============================] - 5s 93us/step - loss: 0.0619 - acc: 0.9802 - val_loss: 0.0610 - val_acc: 0.9835\n",
      "Epoch 13/40\n",
      "54000/54000 [==============================] - 5s 93us/step - loss: 0.0549 - acc: 0.9826 - val_loss: 0.0713 - val_acc: 0.9795\n",
      "Epoch 14/40\n",
      "54000/54000 [==============================] - 5s 93us/step - loss: 0.0554 - acc: 0.9822 - val_loss: 0.0571 - val_acc: 0.9838\n",
      "Epoch 15/40\n",
      "54000/54000 [==============================] - 5s 93us/step - loss: 0.0528 - acc: 0.9830 - val_loss: 0.0521 - val_acc: 0.9847\n",
      "Epoch 16/40\n",
      "54000/54000 [==============================] - 5s 93us/step - loss: 0.0506 - acc: 0.9837 - val_loss: 0.0571 - val_acc: 0.9842\n",
      "Epoch 17/40\n",
      "54000/54000 [==============================] - 5s 93us/step - loss: 0.0529 - acc: 0.9828 - val_loss: 0.0606 - val_acc: 0.9823\n",
      "Epoch 18/40\n",
      "54000/54000 [==============================] - 5s 93us/step - loss: 0.0507 - acc: 0.9836 - val_loss: 0.0595 - val_acc: 0.9835\n",
      "Epoch 19/40\n",
      "54000/54000 [==============================] - 5s 93us/step - loss: 0.0417 - acc: 0.9865 - val_loss: 0.0648 - val_acc: 0.9827\n",
      "Epoch 20/40\n",
      "54000/54000 [==============================] - 5s 93us/step - loss: 0.0465 - acc: 0.9851 - val_loss: 0.0614 - val_acc: 0.9837\n",
      "Epoch 21/40\n",
      "54000/54000 [==============================] - 5s 93us/step - loss: 0.0455 - acc: 0.9853 - val_loss: 0.0571 - val_acc: 0.9847\n",
      "Epoch 22/40\n",
      "54000/54000 [==============================] - 5s 93us/step - loss: 0.0424 - acc: 0.9859 - val_loss: 0.0567 - val_acc: 0.9863\n",
      "Epoch 23/40\n",
      "54000/54000 [==============================] - 5s 93us/step - loss: 0.0422 - acc: 0.9863 - val_loss: 0.0552 - val_acc: 0.9850\n",
      "Epoch 24/40\n",
      "54000/54000 [==============================] - 5s 94us/step - loss: 0.0427 - acc: 0.9864 - val_loss: 0.0577 - val_acc: 0.9860\n",
      "Epoch 25/40\n",
      "54000/54000 [==============================] - 5s 92us/step - loss: 0.0409 - acc: 0.9873 - val_loss: 0.0538 - val_acc: 0.9863\n",
      "Epoch 26/40\n",
      "54000/54000 [==============================] - 5s 93us/step - loss: 0.0392 - acc: 0.9875 - val_loss: 0.0606 - val_acc: 0.9852\n",
      "Epoch 27/40\n",
      "54000/54000 [==============================] - 5s 93us/step - loss: 0.0420 - acc: 0.9869 - val_loss: 0.0524 - val_acc: 0.9870\n",
      "Epoch 28/40\n",
      "54000/54000 [==============================] - 5s 93us/step - loss: 0.0366 - acc: 0.9879 - val_loss: 0.0599 - val_acc: 0.9857\n",
      "Epoch 29/40\n",
      "54000/54000 [==============================] - 5s 93us/step - loss: 0.0367 - acc: 0.9886 - val_loss: 0.0555 - val_acc: 0.9870\n",
      "Epoch 30/40\n",
      "54000/54000 [==============================] - 5s 93us/step - loss: 0.0382 - acc: 0.9879 - val_loss: 0.0506 - val_acc: 0.9875\n",
      "Epoch 31/40\n",
      "54000/54000 [==============================] - 5s 93us/step - loss: 0.0368 - acc: 0.9883 - val_loss: 0.0543 - val_acc: 0.9852\n",
      "Epoch 32/40\n",
      "54000/54000 [==============================] - 5s 93us/step - loss: 0.0389 - acc: 0.9881 - val_loss: 0.0525 - val_acc: 0.9857\n",
      "Epoch 33/40\n",
      "54000/54000 [==============================] - 5s 93us/step - loss: 0.0378 - acc: 0.9877 - val_loss: 0.0526 - val_acc: 0.9860\n",
      "Epoch 34/40\n",
      "54000/54000 [==============================] - 5s 93us/step - loss: 0.0347 - acc: 0.9892 - val_loss: 0.0630 - val_acc: 0.9853\n",
      "Epoch 35/40\n",
      "54000/54000 [==============================] - 5s 93us/step - loss: 0.0354 - acc: 0.9888 - val_loss: 0.0595 - val_acc: 0.9853\n",
      "Epoch 36/40\n",
      "54000/54000 [==============================] - 5s 91us/step - loss: 0.0350 - acc: 0.9889 - val_loss: 0.0586 - val_acc: 0.9870\n",
      "Epoch 37/40\n",
      "54000/54000 [==============================] - 5s 91us/step - loss: 0.0358 - acc: 0.9894 - val_loss: 0.0605 - val_acc: 0.9847\n",
      "Epoch 38/40\n",
      "54000/54000 [==============================] - 5s 91us/step - loss: 0.0332 - acc: 0.9895 - val_loss: 0.0617 - val_acc: 0.9850\n",
      "Epoch 39/40\n",
      "54000/54000 [==============================] - 5s 91us/step - loss: 0.0339 - acc: 0.9892 - val_loss: 0.0610 - val_acc: 0.9865\n",
      "Epoch 40/40\n",
      "54000/54000 [==============================] - 5s 90us/step - loss: 0.0311 - acc: 0.9902 - val_loss: 0.0567 - val_acc: 0.9867\n",
      "Loss: 0.06266012635318152\n",
      "Accuracy: 0.9842\n"
     ]
    }
   ],
   "source": [
    "model.compile(loss='categorical_crossentropy', optimizer='adam', metrics=['accuracy'])\n",
    "model.fit(X_train, Y_train, batch_size=128, epochs=40, verbose=1, validation_split=0.1)\n",
    "score = model.evaluate(X_test, Y_test, verbose=0)\n",
    "print('Loss:',score[0])\n",
    "print('Accuracy:',score[1])"
   ]
  }
 ],
 "metadata": {
  "kernelspec": {
   "display_name": "Python 3",
   "language": "python",
   "name": "python3"
  },
  "language_info": {
   "codemirror_mode": {
    "name": "ipython",
    "version": 3
   },
   "file_extension": ".py",
   "mimetype": "text/x-python",
   "name": "python",
   "nbconvert_exporter": "python",
   "pygments_lexer": "ipython3",
   "version": "3.6.7"
  }
 },
 "nbformat": 4,
 "nbformat_minor": 2
}
