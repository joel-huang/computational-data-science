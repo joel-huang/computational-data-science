{
 "cells": [
  {
   "cell_type": "code",
   "execution_count": 1,
   "metadata": {},
   "outputs": [
    {
     "name": "stderr",
     "output_type": "stream",
     "text": [
      "Using TensorFlow backend.\n"
     ]
    }
   ],
   "source": [
    "from __future__ import print_function\n",
    "import numpy as np\n",
    "import keras\n",
    "from keras.datasets import reuters\n",
    "from keras.models import Sequential\n",
    "from keras.layers import Dense, Dropout, Activation\n",
    "from keras.preprocessing.text import Tokenizer"
   ]
  },
  {
   "cell_type": "code",
   "execution_count": 2,
   "metadata": {},
   "outputs": [
    {
     "name": "stdout",
     "output_type": "stream",
     "text": [
      "(8982, 10000)\n",
      "(2246, 10000)\n",
      "(8982, 46)\n",
      "(2246, 46)\n"
     ]
    }
   ],
   "source": [
    "(x_train, y_train), (x_test, y_test) = reuters.load_data()\n",
    "\n",
    "vocab_size = 10000\n",
    "num_classes = 46\n",
    "\n",
    "tokenizer = Tokenizer(num_words = vocab_size)\n",
    "x_train = tokenizer.sequences_to_matrix(x_train,mode='count')\n",
    "x_test = tokenizer.sequences_to_matrix(x_test,mode='count')\n",
    "print(x_train.shape)\n",
    "print(x_test.shape)\n",
    "\n",
    "y_train = keras.utils.to_categorical(y_train, num_classes) # 46 classes\n",
    "y_test = keras.utils.to_categorical(y_test, num_classes)\n",
    "print(y_train.shape)\n",
    "print(y_test.shape)"
   ]
  },
  {
   "cell_type": "code",
   "execution_count": 3,
   "metadata": {},
   "outputs": [
    {
     "name": "stdout",
     "output_type": "stream",
     "text": [
      "_________________________________________________________________\n",
      "Layer (type)                 Output Shape              Param #   \n",
      "=================================================================\n",
      "dense_1 (Dense)              (None, 512)               5120512   \n",
      "_________________________________________________________________\n",
      "activation_1 (Activation)    (None, 512)               0         \n",
      "_________________________________________________________________\n",
      "dropout_1 (Dropout)          (None, 512)               0         \n",
      "_________________________________________________________________\n",
      "dense_2 (Dense)              (None, 512)               262656    \n",
      "_________________________________________________________________\n",
      "activation_2 (Activation)    (None, 512)               0         \n",
      "_________________________________________________________________\n",
      "dropout_2 (Dropout)          (None, 512)               0         \n",
      "_________________________________________________________________\n",
      "dense_3 (Dense)              (None, 46)                23598     \n",
      "_________________________________________________________________\n",
      "activation_3 (Activation)    (None, 46)                0         \n",
      "=================================================================\n",
      "Total params: 5,406,766\n",
      "Trainable params: 5,406,766\n",
      "Non-trainable params: 0\n",
      "_________________________________________________________________\n"
     ]
    }
   ],
   "source": [
    "model = Sequential()\n",
    "model.add(Dense(512, input_shape=(vocab_size,)))\n",
    "model.add(Activation('relu'))\n",
    "model.add(Dropout(0.5))\n",
    "model.add(Dense(512))\n",
    "model.add(Activation('relu'))\n",
    "model.add(Dropout(0.5))\n",
    "model.add(Dense(num_classes))\n",
    "model.add(Activation('softmax'))\n",
    "model.summary()"
   ]
  },
  {
   "cell_type": "code",
   "execution_count": null,
   "metadata": {},
   "outputs": [
    {
     "name": "stdout",
     "output_type": "stream",
     "text": [
      "Train on 8083 samples, validate on 899 samples\n",
      "Epoch 1/10\n",
      "8083/8083 [==============================] - 22s 3ms/step - loss: 1.5282 - acc: 0.6658 - val_loss: 1.1580 - val_acc: 0.7631\n",
      "Epoch 2/10\n",
      "8083/8083 [==============================] - 18s 2ms/step - loss: 0.8711 - acc: 0.8107 - val_loss: 0.9850 - val_acc: 0.8020\n",
      "Epoch 3/10\n",
      "8083/8083 [==============================] - 18s 2ms/step - loss: 0.5907 - acc: 0.8630 - val_loss: 0.9830 - val_acc: 0.8109\n",
      "Epoch 4/10\n",
      "8083/8083 [==============================] - 19s 2ms/step - loss: 0.4544 - acc: 0.8958 - val_loss: 0.9685 - val_acc: 0.8276\n",
      "Epoch 5/10\n",
      "8083/8083 [==============================] - 18s 2ms/step - loss: 0.3556 - acc: 0.9180 - val_loss: 0.9626 - val_acc: 0.8265\n",
      "Epoch 6/10\n",
      "8083/8083 [==============================] - 18s 2ms/step - loss: 0.3363 - acc: 0.9259 - val_loss: 1.0690 - val_acc: 0.8009\n",
      "Epoch 7/10\n",
      " 128/8083 [..............................] - ETA: 17s - loss: 0.1711 - acc: 0.9609"
     ]
    }
   ],
   "source": [
    "model.compile(loss='categorical_crossentropy', optimizer='adam', metrics=['accuracy'])\n",
    "model.fit(x_train, y_train, batch_size=32, epochs=10, verbose=1, validation_split=0.1)\n",
    "score = model.evaluate(x_test, y_test, verbose=0)\n",
    "print('Loss:',score[0])\n",
    "print('Accuracy:',score[1])"
   ]
  },
  {
   "cell_type": "code",
   "execution_count": null,
   "metadata": {},
   "outputs": [],
   "source": []
  }
 ],
 "metadata": {
  "kernelspec": {
   "display_name": "Python 3",
   "language": "python",
   "name": "python3"
  },
  "language_info": {
   "codemirror_mode": {
    "name": "ipython",
    "version": 3
   },
   "file_extension": ".py",
   "mimetype": "text/x-python",
   "name": "python",
   "nbconvert_exporter": "python",
   "pygments_lexer": "ipython3",
   "version": "3.6.7"
  }
 },
 "nbformat": 4,
 "nbformat_minor": 2
}
