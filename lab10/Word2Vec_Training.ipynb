{
 "cells": [
  {
   "cell_type": "markdown",
   "metadata": {
    "colab_type": "text",
    "id": "KDMeojC4XA9R"
   },
   "source": [
    "## Training a word2vec model from scratch"
   ]
  },
  {
   "cell_type": "code",
   "execution_count": 2,
   "metadata": {
    "colab": {},
    "colab_type": "code",
    "id": "f5wZmGH0XHYP"
   },
   "outputs": [],
   "source": [
    "import gzip\n",
    "import gensim "
   ]
  },
  {
   "cell_type": "code",
   "execution_count": 6,
   "metadata": {
    "colab": {
     "base_uri": "https://localhost:8080/",
     "height": 52
    },
    "colab_type": "code",
    "id": "F8J2jQ1JYpJd",
    "outputId": "b896bc6c-c5a9-4b62-facc-0c85ada6e535"
   },
   "outputs": [
    {
     "name": "stdout",
     "output_type": "stream",
     "text": [
      "reading file...\n",
      "Done reading data file\n",
      "[[], [], ['the', 'sonnets'], [], ['by', 'william', 'shakespeare'], [], [], [], [], ['from', 'fairest', 'creatures', 'we', 'desire', 'increase']]\n"
     ]
    }
   ],
   "source": [
    "def read_input(input_file):\n",
    "    \"\"\"This method reads the input file which is in gzip format\"\"\"\n",
    "    \n",
    "    print(\"reading file...\")\n",
    "      \n",
    "    with open (input_file, 'r') as f:   \n",
    "        lines = f.readlines()\n",
    "        for line in lines:\n",
    "            # do some pre-processing and return a list of words for each review text\n",
    "            # you can print the output here to understand the preprocessing (tokenizing)\n",
    "            yield gensim.utils.simple_preprocess (line)\n",
    "\n",
    "# read the tokenized reviews into a list\n",
    "# each review item becomes a series of words\n",
    "# so this becomes a list of lists\n",
    "\n",
    "# point to the location on your filesystem\n",
    "data_file = 'data/shakespeare.txt'\n",
    "\n",
    "documents = list (read_input (data_file))\n",
    "print(\"Done reading data file\")\n",
    "\n",
    "print(documents[0:10])"
   ]
  },
  {
   "cell_type": "markdown",
   "metadata": {
    "colab_type": "text",
    "id": "ZnDX2S9eX1Ub"
   },
   "source": [
    "Now let's train the word2vec model using our document variable (which is a list of word lists). Note that you can specify a number of hyperparameters below:\n",
    "* min_count removes all words that occur less then min_count\n",
    "* window: window size in the skip-gram\n",
    "* workers: how many threads to use\n",
    "* size: number of dimension of your new word embedding vector (typically 100-200). Smaller datasets require a smaller number\n",
    "\n"
   ]
  },
  {
   "cell_type": "code",
   "execution_count": 21,
   "metadata": {
    "colab": {
     "base_uri": "https://localhost:8080/",
     "height": 34
    },
    "colab_type": "code",
    "id": "VJWmrzCRZm9Z",
    "outputId": "ed5c0260-ebf9-4d29-c7ea-b5017905bc73"
   },
   "outputs": [
    {
     "data": {
      "text/plain": [
       "(6705201, 8675160)"
      ]
     },
     "execution_count": 21,
     "metadata": {},
     "output_type": "execute_result"
    }
   ],
   "source": [
    "model = gensim.models.Word2Vec (documents, size=150, window=2, min_count=2, workers=4)\n",
    "model.train(documents,total_examples=len(documents),epochs=10)"
   ]
  },
  {
   "cell_type": "code",
   "execution_count": 22,
   "metadata": {
    "colab": {
     "base_uri": "https://localhost:8080/",
     "height": 245
    },
    "colab_type": "code",
    "id": "MTGeHhiaZzIU",
    "outputId": "a2965b81-b3f3-43c9-c35b-fc0a14658975"
   },
   "outputs": [
    {
     "data": {
      "text/plain": [
       "[('prince', 0.6778877377510071),\n",
       " ('fifth', 0.6378481388092041),\n",
       " ('sixth', 0.6065809726715088),\n",
       " ('duke', 0.6031304597854614),\n",
       " ('bolingbroke', 0.5930298566818237),\n",
       " ('bastard', 0.5856661796569824),\n",
       " ('emperor', 0.5521674752235413),\n",
       " ('ghost', 0.5441737174987793),\n",
       " ('plantagenet', 0.5426896810531616),\n",
       " ('princess', 0.5294144749641418)]"
      ]
     },
     "execution_count": 22,
     "metadata": {},
     "output_type": "execute_result"
    }
   ],
   "source": [
    "w1 = \"king\"\n",
    "model.wv.most_similar (positive=w1)"
   ]
  },
  {
   "cell_type": "code",
   "execution_count": 23,
   "metadata": {
    "colab": {
     "base_uri": "https://localhost:8080/",
     "height": 176
    },
    "colab_type": "code",
    "id": "GuJhHUOve1km",
    "outputId": "588f5b93-2a31-4a03-82d2-e31787d71bd7"
   },
   "outputs": [
    {
     "data": {
      "text/plain": [
       "[('wink', 0.801526665687561),\n",
       " ('laugh', 0.7841230630874634),\n",
       " ('blush', 0.7673452496528625),\n",
       " ('shine', 0.7582794427871704),\n",
       " ('lacedaemon', 0.754690408706665),\n",
       " ('rail', 0.751758337020874)]"
      ]
     },
     "execution_count": 23,
     "metadata": {},
     "output_type": "execute_result"
    }
   ],
   "source": [
    "# look up top 6 words similar to 'smile'\n",
    "w1 = [\"smile\"]\n",
    "model.wv.most_similar (positive=w1,topn=6)"
   ]
  },
  {
   "cell_type": "code",
   "execution_count": 24,
   "metadata": {
    "colab": {
     "base_uri": "https://localhost:8080/",
     "height": 176
    },
    "colab_type": "code",
    "id": "iZu3GGf9e41V",
    "outputId": "bd278f46-34e1-4171-dd17-9459aca29b26"
   },
   "outputs": [
    {
     "data": {
      "text/plain": [
       "[('england', 0.7173498868942261),\n",
       " ('naples', 0.6551616191864014),\n",
       " ('rome', 0.6399035453796387),\n",
       " ('venice', 0.6248741149902344),\n",
       " ('egypt', 0.6221017837524414),\n",
       " ('realm', 0.5836130380630493)]"
      ]
     },
     "execution_count": 24,
     "metadata": {},
     "output_type": "execute_result"
    }
   ],
   "source": [
    "# look up top 6 words similar to 'france'\n",
    "w1 = [\"france\"]\n",
    "model.wv.most_similar (positive=w1,topn=6)"
   ]
  },
  {
   "cell_type": "code",
   "execution_count": 27,
   "metadata": {
    "colab": {
     "base_uri": "https://localhost:8080/",
     "height": 176
    },
    "colab_type": "code",
    "id": "VlDIzGHZe9yN",
    "outputId": "cd0c1dab-5abe-44b4-8550-672a0a1d041f"
   },
   "outputs": [
    {
     "data": {
      "text/plain": [
       "[('head', 0.7464984655380249),\n",
       " ('knife', 0.7071756720542908),\n",
       " ('knee', 0.7048714756965637),\n",
       " ('weapon', 0.697693943977356),\n",
       " ('finger', 0.6895721554756165),\n",
       " ('conscience', 0.6877733469009399)]"
      ]
     },
     "execution_count": 27,
     "metadata": {},
     "output_type": "execute_result"
    }
   ],
   "source": [
    "# look up top 6 words similar to 'sword'\n",
    "w1 = [\"sword\"]\n",
    "model.wv.most_similar (positive=w1,topn=6)"
   ]
  },
  {
   "cell_type": "code",
   "execution_count": 28,
   "metadata": {
    "colab": {
     "base_uri": "https://localhost:8080/",
     "height": 245
    },
    "colab_type": "code",
    "id": "wvKKzFHbfAnr",
    "outputId": "867a379b-458a-41b5-a609-0f9f472d9780"
   },
   "outputs": [
    {
     "data": {
      "text/plain": [
       "[('duke', 0.6454849243164062),\n",
       " ('princess', 0.5998762249946594),\n",
       " ('bolingbroke', 0.5786054134368896),\n",
       " ('emperor', 0.5720871686935425),\n",
       " ('ghost', 0.5666854381561279),\n",
       " ('bastard', 0.5610008239746094),\n",
       " ('warwick', 0.5597424507141113),\n",
       " ('gaunt', 0.5429732799530029),\n",
       " ('duchess', 0.5426961183547974),\n",
       " ('empress', 0.5323967337608337)]"
      ]
     },
     "execution_count": 28,
     "metadata": {},
     "output_type": "execute_result"
    }
   ],
   "source": [
    "# get everything related to stuff on the royalty\n",
    "w1 = [\"king\",'queen','prince']\n",
    "w2 = ['farmer']\n",
    "model.wv.most_similar (positive=w1,negative=w2,topn=10)"
   ]
  },
  {
   "cell_type": "markdown",
   "metadata": {
    "colab_type": "text",
    "id": "TkQZ1KkiYpK_"
   },
   "source": [
    "### Calculate the similarity between 2 words, outliers"
   ]
  },
  {
   "cell_type": "code",
   "execution_count": 29,
   "metadata": {
    "colab": {
     "base_uri": "https://localhost:8080/",
     "height": 89
    },
    "colab_type": "code",
    "id": "3nFv31TxfBMX",
    "outputId": "455671b0-8489-4ec2-fc1a-62984b4abb9d"
   },
   "outputs": [
    {
     "data": {
      "text/plain": [
       "0.5525643541111571"
      ]
     },
     "execution_count": 29,
     "metadata": {},
     "output_type": "execute_result"
    }
   ],
   "source": [
    "# similarity between two similar words\n",
    "model.wv.similarity(w1=\"pretty\",w2=\"beautiful\")\n"
   ]
  },
  {
   "cell_type": "code",
   "execution_count": 30,
   "metadata": {
    "colab": {
     "base_uri": "https://localhost:8080/",
     "height": 89
    },
    "colab_type": "code",
    "id": "0PXLoSftYpLO",
    "outputId": "72734555-bdc6-4245-fd3d-f0077726d3ab"
   },
   "outputs": [
    {
     "data": {
      "text/plain": [
       "0.05745621445830723"
      ]
     },
     "execution_count": 30,
     "metadata": {},
     "output_type": "execute_result"
    }
   ],
   "source": [
    "# similarity between two opposing words\n",
    "model.wv.similarity(w1=\"king\",w2=\"farmer\")\n"
   ]
  },
  {
   "cell_type": "code",
   "execution_count": 31,
   "metadata": {
    "colab": {
     "base_uri": "https://localhost:8080/",
     "height": 89
    },
    "colab_type": "code",
    "id": "8eO7ra-efKYq",
    "outputId": "856189a3-bc4b-4595-d2a0-97aafd4a507c"
   },
   "outputs": [
    {
     "data": {
      "text/plain": [
       "'france'"
      ]
     },
     "execution_count": 31,
     "metadata": {},
     "output_type": "execute_result"
    }
   ],
   "source": [
    "# Which one is the odd one out in this list?\n",
    "model.wv.doesnt_match([\"cat\",\"dog\",\"france\"])\n"
   ]
  },
  {
   "cell_type": "code",
   "execution_count": 32,
   "metadata": {
    "colab": {
     "base_uri": "https://localhost:8080/",
     "height": 555
    },
    "colab_type": "code",
    "id": "rEOzUfKcYpL4",
    "outputId": "daa62015-eb68-40c3-87f3-157a677c51e5"
   },
   "outputs": [
    {
     "data": {
      "text/plain": [
       "array([ 1.97269469e-01, -9.04029429e-01,  1.47488996e-01, -9.88753513e-02,\n",
       "        6.41455352e-02,  2.03531072e-01,  6.97970688e-02,  4.83442023e-02,\n",
       "        6.41207874e-01,  5.41327178e-01, -3.14969808e-01,  3.70132148e-01,\n",
       "        2.67325610e-01, -7.19787087e-03, -8.40408504e-02, -3.48092169e-02,\n",
       "        4.85500216e-01, -3.80229622e-01,  6.50449842e-02,  6.25941932e-01,\n",
       "       -9.11989570e-01,  3.24151874e-01,  4.72424507e-01,  4.64876831e-01,\n",
       "        5.03622985e-04,  3.02778184e-01,  2.53881305e-01, -7.25200921e-02,\n",
       "        2.11028054e-01,  5.73558211e-01,  4.03996438e-01,  2.44697660e-01,\n",
       "        5.00542819e-01,  4.08025950e-01, -9.77277279e-01,  1.01079023e+00,\n",
       "        1.76777005e-01,  1.47022083e-01, -2.68938750e-01, -9.67497230e-01,\n",
       "       -1.20422268e+00, -1.97759131e-03,  1.48668766e+00, -2.86806375e-02,\n",
       "        3.46672945e-02,  6.24797523e-01,  3.38135123e-01,  1.42602308e-03,\n",
       "        3.11930865e-01,  1.52029172e-01,  1.69331148e-01, -7.01734900e-01,\n",
       "       -1.29097283e+00,  1.06050298e-01, -6.13321245e-01,  1.85545720e-02,\n",
       "       -6.19496822e-01, -4.08860862e-01, -1.10128653e+00,  5.82140267e-01,\n",
       "        3.36655937e-02, -1.48015812e-01, -1.21195567e+00,  1.86958805e-01,\n",
       "       -6.93122864e-01, -9.46315080e-02,  5.60281217e-01, -2.31629893e-01,\n",
       "       -2.06873924e-01,  2.55132228e-01,  7.12332547e-01,  2.88025528e-01,\n",
       "       -9.78645906e-02,  1.45326436e-01,  4.23377752e-01,  3.85436684e-01,\n",
       "       -2.27102667e-01,  8.15342426e-01, -3.74113135e-02,  6.29090369e-01,\n",
       "        4.47804838e-01,  4.98091191e-01, -2.28948072e-01, -4.37066972e-01,\n",
       "        7.19328642e-01,  1.92091256e-01,  1.00736547e+00, -3.35576795e-02,\n",
       "       -5.46952248e-01, -2.35983264e-02,  8.59311283e-01, -8.29710066e-01,\n",
       "        1.66626930e-01,  4.36158955e-01,  3.96305948e-01,  5.52797318e-01,\n",
       "        3.01018000e-01,  5.95695615e-01,  3.19751561e-01,  1.74640492e-01,\n",
       "        2.73275912e-01,  6.90670535e-02,  4.57244188e-01,  3.92841548e-01,\n",
       "        2.04194784e-01, -5.60034215e-01,  3.07243496e-01, -4.49726023e-02,\n",
       "        4.41324353e-01,  7.48252034e-01,  2.85102665e-01, -4.41580974e-02,\n",
       "        1.49657637e-01, -1.47085571e+00, -7.38574266e-01,  8.97954166e-01,\n",
       "        7.11693287e-01,  9.60343003e-01, -7.61007547e-01,  3.76512676e-01,\n",
       "        2.40513831e-01,  8.40088069e-01,  6.94105446e-01, -2.34753847e-01,\n",
       "       -1.70897603e-01, -1.32382882e+00,  8.58770162e-02, -3.50696534e-01,\n",
       "       -2.19814822e-01, -1.64813423e+00,  1.04087412e+00, -6.76039219e-01,\n",
       "        2.96218246e-01,  1.50207683e-01, -5.60330331e-01, -3.40248197e-01,\n",
       "       -6.81151330e-01,  9.31006789e-01, -2.14873493e-01,  2.43559718e-01,\n",
       "       -9.77119684e-01, -4.96715009e-01,  3.29448164e-01,  1.48547506e+00,\n",
       "       -1.22519605e-01,  3.56433898e-01, -2.41286293e-01, -4.58327472e-01,\n",
       "       -4.30061996e-01,  7.76129603e-01], dtype=float32)"
      ]
     },
     "execution_count": 32,
     "metadata": {},
     "output_type": "execute_result"
    }
   ],
   "source": [
    "model.wv['france']"
   ]
  },
  {
   "cell_type": "markdown",
   "metadata": {
    "colab_type": "text",
    "id": "1_U5DgEPYpMI"
   },
   "source": [
    "## Bonus: visualising our model in t-SNE: "
   ]
  },
  {
   "cell_type": "code",
   "execution_count": 33,
   "metadata": {
    "colab": {
     "base_uri": "https://localhost:8080/",
     "height": 955
    },
    "colab_type": "code",
    "id": "0g6g7s-MYpMK",
    "outputId": "7cd17e24-8f60-4f8b-c569-d56dcf090097"
   },
   "outputs": [
    {
     "name": "stderr",
     "output_type": "stream",
     "text": [
      "/home/joel/anaconda2/envs/ml/lib/python3.6/site-packages/ipykernel_launcher.py:21: DeprecationWarning: Call to deprecated `__getitem__` (Method will be removed in 4.0.0, use self.wv.__getitem__() instead).\n"
     ]
    },
    {
     "data": {
      "image/png": "[encoded data removed]",
      "text/plain": [
       "<Figure size 1152x1152 with 1 Axes>"
      ]
     },
     "metadata": {
      "needs_background": "light"
     },
     "output_type": "display_data"
    }
   ],
   "source": [
    "from sklearn.manifold import TSNE\n",
    "import matplotlib.pyplot as plt\n",
    "%matplotlib inline\n",
    "\n",
    "def tsne_plot(model):\n",
    "    \"Creates and TSNE model and plots it\"\n",
    "    \n",
    "    # fyi: to test specific labels instead of all the words in the vocab: \n",
    "#     labels = ['king', 'queen', 'prince', 'farmer', 'blue', 'red']\n",
    "#     tokens = []\n",
    "#     for label in labels: \n",
    "#         tokens.append(model[label])\n",
    "\n",
    "    labels = []\n",
    "    tokens = []\n",
    "    \n",
    "    count = 0\n",
    "    for word in model.wv.vocab:\n",
    "        # to speed up the process, let's limit to the first 100 elements\n",
    "        if count < 100:\n",
    "            tokens.append(model[word])\n",
    "            labels.append(word)\n",
    "            count = count+1\n",
    "\n",
    "    # set the t-sne values\n",
    "    tsne_model = TSNE(perplexity=40, n_components=2, init='pca', n_iter=2500, random_state=23)\n",
    "    new_values = tsne_model.fit_transform(tokens)\n",
    "\n",
    "    x = []\n",
    "    y = []\n",
    "    for value in new_values:\n",
    "        x.append(value[0])\n",
    "        y.append(value[1])\n",
    "        \n",
    "    plt.figure(figsize=(16, 16)) \n",
    "    for i in range(len(x)):\n",
    "        plt.scatter(x[i],y[i])\n",
    "        plt.annotate(labels[i],\n",
    "                     xy=(x[i], y[i]),\n",
    "                     xytext=(5, 2),\n",
    "                     textcoords='offset points',\n",
    "                     ha='right',\n",
    "                     va='bottom')\n",
    "    plt.show()\n",
    "    \n",
    "tsne_plot(model)"
   ]
  },
  {
   "cell_type": "markdown",
   "metadata": {
    "colab_type": "text",
    "id": "UsRf6k4wYpMd"
   },
   "source": [
    "## References\n",
    "\n",
    "* https://radimrehurek.com/gensim/models/word2vec.html\n",
    "* https://towardsdatascience.com/multi-class-text-classification-model-comparison-and-selection-5eb066197568\n",
    "* https://github.com/kavgan/nlp-text-mining-working-examples/tree/master/word2vec\n",
    "* https://medium.com/@mishra.thedeepak/doc2vec-simple-implementation-example-df2afbbfbad5"
   ]
  }
 ],
 "metadata": {
  "colab": {
   "collapsed_sections": [],
   "include_colab_link": true,
   "name": "lab10a.ipynb",
   "provenance": [],
   "toc_visible": true,
   "version": "0.3.2"
  },
  "kernelspec": {
   "display_name": "Python 3",
   "language": "python",
   "name": "python3"
  },
  "language_info": {
   "codemirror_mode": {
    "name": "ipython",
    "version": 3
   },
   "file_extension": ".py",
   "mimetype": "text/x-python",
   "name": "python",
   "nbconvert_exporter": "python",
   "pygments_lexer": "ipython3",
   "version": "3.6.7"
  }
 },
 "nbformat": 4,
 "nbformat_minor": 1
}
