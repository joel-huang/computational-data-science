{
 "cells": [
  {
   "cell_type": "markdown",
   "metadata": {},
   "source": [
    "# Part 1: Feature Selection with `scikit-learn`"
   ]
  },
  {
   "cell_type": "code",
   "execution_count": 2,
   "metadata": {},
   "outputs": [],
   "source": [
    "from sklearn.feature_extraction.text import CountVectorizer\n",
    "from sklearn.naive_bayes import MultinomialNB\n",
    "from sklearn.pipeline import Pipeline\n",
    "from sklearn.model_selection import train_test_split\n",
    "from sklearn.preprocessing import FunctionTransformer\n",
    "from sklearn import metrics\n",
    "from sklearn.metrics import accuracy_score\n",
    "from sklearn.feature_selection import SelectKBest, SelectPercentile\n",
    "from sklearn.feature_selection import chi2, f_classif, mutual_info_classif\n",
    "import pandas as pd\n",
    "import numpy as np"
   ]
  },
  {
   "cell_type": "markdown",
   "metadata": {},
   "source": [
    "## Data inspection"
   ]
  },
  {
   "cell_type": "code",
   "execution_count": 28,
   "metadata": {},
   "outputs": [
    {
     "data": {
      "text/html": [
       "<div>\n",
       "<style scoped>\n",
       "    .dataframe tbody tr th:only-of-type {\n",
       "        vertical-align: middle;\n",
       "    }\n",
       "\n",
       "    .dataframe tbody tr th {\n",
       "        vertical-align: top;\n",
       "    }\n",
       "\n",
       "    .dataframe thead th {\n",
       "        text-align: right;\n",
       "    }\n",
       "</style>\n",
       "<table border=\"1\" class=\"dataframe\">\n",
       "  <thead>\n",
       "    <tr style=\"text-align: right;\">\n",
       "      <th></th>\n",
       "      <th>label</th>\n",
       "      <th>id</th>\n",
       "      <th>date</th>\n",
       "      <th>query</th>\n",
       "      <th>user</th>\n",
       "      <th>text</th>\n",
       "    </tr>\n",
       "  </thead>\n",
       "  <tbody>\n",
       "    <tr>\n",
       "      <th>0</th>\n",
       "      <td>4</td>\n",
       "      <td>1985770747</td>\n",
       "      <td>Sun May 31 17:44:25 PDT 2009</td>\n",
       "      <td>NO_QUERY</td>\n",
       "      <td>vozabala</td>\n",
       "      <td>Getting ready for another week of fun and game...</td>\n",
       "    </tr>\n",
       "    <tr>\n",
       "      <th>1</th>\n",
       "      <td>0</td>\n",
       "      <td>2322735567</td>\n",
       "      <td>Wed Jun 24 23:10:08 PDT 2009</td>\n",
       "      <td>NO_QUERY</td>\n",
       "      <td>liannecab</td>\n",
       "      <td>http://twitpic.com/8cp6u - I want it, sooo bad</td>\n",
       "    </tr>\n",
       "  </tbody>\n",
       "</table>\n",
       "</div>"
      ],
      "text/plain": [
       "   label          id                          date     query       user  \\\n",
       "0      4  1985770747  Sun May 31 17:44:25 PDT 2009  NO_QUERY   vozabala   \n",
       "1      0  2322735567  Wed Jun 24 23:10:08 PDT 2009  NO_QUERY  liannecab   \n",
       "\n",
       "                                                text  \n",
       "0  Getting ready for another week of fun and game...  \n",
       "1    http://twitpic.com/8cp6u - I want it, sooo bad   "
      ]
     },
     "execution_count": 28,
     "metadata": {},
     "output_type": "execute_result"
    }
   ],
   "source": [
    "data = pd.read_csv('data/tweets.160k.random.csv', encoding='utf-8')\n",
    "data.head(2)"
   ]
  },
  {
   "cell_type": "code",
   "execution_count": 30,
   "metadata": {},
   "outputs": [
    {
     "name": "stdout",
     "output_type": "stream",
     "text": [
      "6\n"
     ]
    },
    {
     "data": {
      "text/plain": [
       "4    80259\n",
       "0    79741\n",
       "Name: label, dtype: int64"
      ]
     },
     "execution_count": 30,
     "metadata": {},
     "output_type": "execute_result"
    }
   ],
   "source": [
    "print(len(data.columns))\n",
    "data['label'].value_counts()"
   ]
  },
  {
   "cell_type": "markdown",
   "metadata": {},
   "source": [
    "## Define Pipeline Components"
   ]
  },
  {
   "cell_type": "code",
   "execution_count": 12,
   "metadata": {},
   "outputs": [],
   "source": [
    "# Split data 80:20\n",
    "xtrain, xtest, ytrain, ytest = train_test_split(data, data['label'], test_size=0.2)\n",
    "\n",
    "# What does this do?\n",
    "get_tweet_cols = FunctionTransformer(lambda x: x['text'], validate=False)\n",
    "\n",
    "# Produce both unigrams and bigraams\n",
    "bow_vector = CountVectorizer(stop_words='english', lowercase=True, ngram_range=(1,2))\n",
    "\n",
    "mnb_classifier = MultinomialNB()"
   ]
  },
  {
   "cell_type": "markdown",
   "metadata": {},
   "source": [
    "## Training"
   ]
  },
  {
   "cell_type": "code",
   "execution_count": 13,
   "metadata": {},
   "outputs": [
    {
     "name": "stdout",
     "output_type": "stream",
     "text": [
      "0.7505625\n"
     ]
    }
   ],
   "source": [
    "pipeline = Pipeline([('get_tweets', get_tweet_cols), ('bow', bow_vector), ('mnb', mnb_classifier)])\n",
    "pipeline.fit(xtrain, ytrain)\n",
    "predicted = pipeline.predict(xtest)\n",
    "print(accuracy_score(ytest, predicted))"
   ]
  },
  {
   "cell_type": "markdown",
   "metadata": {},
   "source": [
    "## Feature Selection\n",
    "\n",
    "### `SelectPercentile` vs. `SelectKBest`\n",
    "* `SelectPercentile` ranks the best features, by percentile, and excludes features below a certain percentile.\n",
    "* `SelectKBest` scores the features using a function and then \"removes all but the k highest scoring features.\n",
    "\n",
    "### `f_classif`\n",
    "Used only for categorical targets and based on the Analysis of Variance (ANOVA) statistical test.\n",
    "\n",
    "### `chi2`\n",
    "Performs the chi-square statistic for categorical targets, which is less sensible to the nonlinear relationship between the predictive variable and its target.\n"
   ]
  },
  {
   "cell_type": "code",
   "execution_count": 14,
   "metadata": {},
   "outputs": [
    {
     "name": "stdout",
     "output_type": "stream",
     "text": [
      "0.7521875\n"
     ]
    }
   ],
   "source": [
    "feature_select = SelectPercentile(chi2, percentile=5)\n",
    "\n",
    "pipeline = Pipeline([('get_tweets', get_tweet_cols), ('bow', bow_vector), ('feature_select', feature_select), ('mnb', mnb_classifier)])\n",
    "pipeline.fit(xtrain, ytrain)\n",
    "predicted = pipeline.predict(xtest)\n",
    "print(accuracy_score(ytest, predicted))"
   ]
  },
  {
   "cell_type": "code",
   "execution_count": 26,
   "metadata": {},
   "outputs": [
    {
     "name": "stdout",
     "output_type": "stream",
     "text": [
      "0.75146875\n"
     ]
    }
   ],
   "source": [
    "feature_select = SelectPercentile(f_classif, percentile=5)\n",
    "\n",
    "pipeline = Pipeline([('get_tweets', get_tweet_cols), ('bow', bow_vector), ('feature_select', feature_select), ('mnb', mnb_classifier)])\n",
    "pipeline.fit(xtrain, ytrain)\n",
    "predicted = pipeline.predict(xtest)\n",
    "print(accuracy_score(ytest, predicted))"
   ]
  },
  {
   "cell_type": "code",
   "execution_count": 34,
   "metadata": {},
   "outputs": [
    {
     "name": "stdout",
     "output_type": "stream",
     "text": [
      "0.67709375\n"
     ]
    }
   ],
   "source": [
    "feature_select = SelectKBest(chi2, k=100)\n",
    "\n",
    "pipeline = Pipeline([('get_tweets', get_tweet_cols), ('bow', bow_vector), ('feature_select', feature_select), ('mnb', mnb_classifier)])\n",
    "pipeline.fit(xtrain, ytrain)\n",
    "predicted = pipeline.predict(xtest)\n",
    "print(accuracy_score(ytest, predicted))"
   ]
  },
  {
   "cell_type": "code",
   "execution_count": 35,
   "metadata": {},
   "outputs": [
    {
     "name": "stdout",
     "output_type": "stream",
     "text": [
      "0.67721875\n"
     ]
    }
   ],
   "source": [
    "feature_select = SelectKBest(f_classif, k=100)\n",
    "\n",
    "pipeline = Pipeline([('get_tweets', get_tweet_cols), ('bow', bow_vector), ('feature_select', feature_select), ('mnb', mnb_classifier)])\n",
    "pipeline.fit(xtrain, ytrain)\n",
    "predicted = pipeline.predict(xtest)\n",
    "print(accuracy_score(ytest, predicted))"
   ]
  },
  {
   "cell_type": "markdown",
   "metadata": {},
   "source": [
    "# Part 2: Weka MAE/RMSE"
   ]
  },
  {
   "cell_type": "markdown",
   "metadata": {},
   "source": [
    "## Evaluation on full training set vs. 20% of dataset\n",
    "\n",
    "* MAE on 20% of dataset is substantially higher than full training set.\n",
    "* RMSE on 20% of dataset is also substantially higher than full training set.\n",
    "\n",
    "```\n",
    "=== Evaluation on training data ===\n",
    "Target                      1-step-ahead\n",
    "========================================\n",
    "passenger_numbers\n",
    "  N                                  103\n",
    "  Mean absolute error             6.9732\n",
    "  Root mean squared error          8.442\n",
    "\n",
    "Total number of instances: 115\n",
    "\n",
    "=== Evaluation on test data ===\n",
    "Target                      1-step-ahead\n",
    "========================================\n",
    "passenger_numbers\n",
    "  N                                   29\n",
    "  Mean absolute error             17.588\n",
    "  Root mean squared error         20.438\n",
    "\n",
    "Total number of instances: 29\n",
    "\n",
    "```"
   ]
  },
  {
   "cell_type": "markdown",
   "metadata": {},
   "source": [
    "## Evaluation without feature selection\n",
    "\n",
    "* Performance without feature selection decreases slightly to marginally on both the full training set and 20% of dataset.\n",
    "\n",
    "```\n",
    "=== Evaluation on training data ===\n",
    "Target                      1-step-ahead\n",
    "========================================\n",
    "passenger_numbers\n",
    "  N                                  103\n",
    "  Mean absolute error             7.0827\n",
    "  Root mean squared error         8.5459\n",
    "\n",
    "Total number of instances: 115\n",
    "\n",
    "=== Evaluation on test data ===\n",
    "Target                      1-step-ahead\n",
    "========================================\n",
    "passenger_numbers\n",
    "  N                                   29\n",
    "  Mean absolute error            17.6701\n",
    "  Root mean squared error        20.4839\n",
    "\n",
    "Total number of instances: 29\n",
    "\n",
    "```"
   ]
  }
 ],
 "metadata": {
  "kernelspec": {
   "display_name": "Python 2",
   "language": "python",
   "name": "python2"
  },
  "language_info": {
   "codemirror_mode": {
    "name": "ipython",
    "version": 2
   },
   "file_extension": ".py",
   "mimetype": "text/x-python",
   "name": "python",
   "nbconvert_exporter": "python",
   "pygments_lexer": "ipython2",
   "version": "2.7.15"
  }
 },
 "nbformat": 4,
 "nbformat_minor": 2
}
